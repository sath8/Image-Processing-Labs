{
  "nbformat": 4,
  "nbformat_minor": 0,
  "metadata": {
    "colab": {
      "provenance": [],
      "gpuType": "T4"
    },
    "kernelspec": {
      "name": "python3",
      "display_name": "Python 3"
    },
    "language_info": {
      "name": "python"
    },
    "accelerator": "GPU"
  },
  "cells": [
    {
      "cell_type": "markdown",
      "source": [
        "# task 1"
      ],
      "metadata": {
        "id": "wd42ulxfJ7jK"
      }
    },
    {
      "cell_type": "code",
      "source": [
        "import torch\n",
        "import torch.nn as nn\n",
        "import torch.optim as optim\n",
        "import torchvision\n",
        "import torchvision.transforms as transforms\n",
        "from torch.utils.data import DataLoader\n",
        "\n",
        "# Define transformations for the training and testing data\n",
        "transform = transforms.Compose([\n",
        "    transforms.Resize((224, 224)),  # Resize to 224x224 for AlexNet compatibility\n",
        "    transforms.ToTensor(),\n",
        "    transforms.Normalize((0.5,), (0.5,))\n",
        "])\n",
        "\n",
        "# Load the MNIST dataset\n",
        "train_dataset = torchvision.datasets.MNIST(root='./data', train=True, transform=transform, download=True)\n",
        "test_dataset = torchvision.datasets.MNIST(root='./data', train=False, transform=transform, download=True)\n",
        "\n",
        "# Data loaders\n",
        "train_loader = DataLoader(train_dataset, batch_size=64, shuffle=True)\n",
        "test_loader = DataLoader(test_dataset, batch_size=1000, shuffle=False)\n",
        "\n",
        "# Load pre-trained ResNet18 and modify the first and final layers\n",
        "import torchvision.models as models\n",
        "\n",
        "resnet18 = models.resnet18(pretrained=False)\n",
        "resnet18.conv1 = nn.Conv2d(1, 64, kernel_size=7, stride=2, padding=3, bias=False)\n",
        "resnet18.fc = nn.Linear(resnet18.fc.in_features, 10)\n",
        "\n",
        "# Load pre-trained AlexNet and modify the first and final layers\n",
        "alexnet = models.alexnet(pretrained=False)\n",
        "alexnet.features[0] = nn.Conv2d(1, 64, kernel_size=11, stride=4, padding=2)\n",
        "alexnet.classifier[6] = nn.Linear(alexnet.classifier[6].in_features, 10)\n",
        "\n",
        "device = torch.device('cuda' if torch.cuda.is_available() else 'cpu')\n",
        "\n",
        "resnet18 = resnet18.to(device)\n",
        "alexnet = alexnet.to(device)\n",
        "criterion = nn.CrossEntropyLoss()\n",
        "\n",
        "# Optimizers\n",
        "resnet18_optimizer = optim.Adam(resnet18.parameters(), lr=0.001)\n",
        "alexnet_optimizer = optim.Adam(alexnet.parameters(), lr=0.001)\n",
        "\n",
        "def train_model(model, train_loader, criterion, optimizer, num_epochs=10):\n",
        "    model.train()\n",
        "    for epoch in range(num_epochs):\n",
        "        running_loss = 0.0\n",
        "        for images, labels in train_loader:\n",
        "            images, labels = images.to(device), labels.to(device)\n",
        "\n",
        "            optimizer.zero_grad()\n",
        "            outputs = model(images)\n",
        "            loss = criterion(outputs, labels)\n",
        "            loss.backward()\n",
        "            optimizer.step()\n",
        "\n",
        "            running_loss += loss.item()\n",
        "\n",
        "        epoch_loss = running_loss / len(train_loader)\n",
        "        print(f'Epoch [{epoch+1}/{num_epochs}], Loss: {epoch_loss:.4f}')\n",
        "    return model\n",
        "\n",
        "def evaluate_model(model, test_loader):\n",
        "    model.eval()\n",
        "    correct = 0\n",
        "    total = 0\n",
        "    with torch.no_grad():\n",
        "        for images, labels in test_loader:\n",
        "            images, labels = images.to(device), labels.to(device)\n",
        "            outputs = model(images)\n",
        "            _, predicted = torch.max(outputs.data, 1)\n",
        "            total += labels.size(0)\n",
        "            correct += (predicted == labels).sum().item()\n",
        "\n",
        "    accuracy = 100 * correct / total\n",
        "    return accuracy\n",
        "\n",
        "# Train ResNet18\n",
        "print(\"Training ResNet18...\")\n",
        "resnet18 = train_model(resnet18, train_loader, criterion, resnet18_optimizer)\n",
        "\n",
        "# Train AlexNet\n",
        "print(\"Training AlexNet...\")\n",
        "alexnet = train_model(alexnet, train_loader, criterion, alexnet_optimizer)\n",
        "\n",
        "# Evaluate the models\n",
        "resnet18_accuracy = evaluate_model(resnet18, test_loader)\n",
        "alexnet_accuracy = evaluate_model(alexnet, test_loader)\n",
        "\n",
        "print(f'ResNet18 Accuracy: {resnet18_accuracy:.2f}%')\n",
        "print(f'AlexNet Accuracy: {alexnet_accuracy:.2f}%')\n"
      ],
      "metadata": {
        "colab": {
          "base_uri": "https://localhost:8080/"
        },
        "id": "ReyuoOOfK5re",
        "outputId": "f7f99bca-e496-4a26-ce4f-acb91b802aba"
      },
      "execution_count": null,
      "outputs": [
        {
          "output_type": "stream",
          "name": "stdout",
          "text": [
            "Training ResNet18...\n",
            "Epoch [1/10], Loss: 0.0977\n",
            "Epoch [2/10], Loss: 0.0422\n",
            "Epoch [3/10], Loss: 0.0316\n",
            "Epoch [4/10], Loss: 0.0259\n",
            "Epoch [5/10], Loss: 0.0239\n",
            "Epoch [6/10], Loss: 0.0207\n",
            "Epoch [7/10], Loss: 0.0176\n",
            "Epoch [8/10], Loss: 0.0157\n",
            "Epoch [9/10], Loss: 0.0134\n",
            "Epoch [10/10], Loss: 0.0102\n",
            "Training AlexNet...\n"
          ]
        },
        {
          "output_type": "stream",
          "name": "stderr",
          "text": [
            "/usr/local/lib/python3.10/dist-packages/torch/nn/modules/conv.py:456: UserWarning: Plan failed with a cudnnException: CUDNN_BACKEND_EXECUTION_PLAN_DESCRIPTOR: cudnnFinalize Descriptor Failed cudnn_status: CUDNN_STATUS_NOT_SUPPORTED (Triggered internally at ../aten/src/ATen/native/cudnn/Conv_v8.cpp:919.)\n",
            "  return F.conv2d(input, weight, bias, self.stride,\n"
          ]
        },
        {
          "output_type": "stream",
          "name": "stdout",
          "text": [
            "Epoch [1/10], Loss: 0.3748\n",
            "Epoch [2/10], Loss: 0.0941\n",
            "Epoch [3/10], Loss: 0.0792\n",
            "Epoch [4/10], Loss: 0.0675\n",
            "Epoch [5/10], Loss: 0.0637\n",
            "Epoch [6/10], Loss: 0.0551\n",
            "Epoch [7/10], Loss: 0.0556\n",
            "Epoch [8/10], Loss: 0.0530\n"
          ]
        }
      ]
    }
  ]
}