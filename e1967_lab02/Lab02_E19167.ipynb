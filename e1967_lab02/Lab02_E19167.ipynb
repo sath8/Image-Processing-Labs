{
  "nbformat": 4,
  "nbformat_minor": 0,
  "metadata": {
    "colab": {
      "provenance": []
    },
    "kernelspec": {
      "name": "python3",
      "display_name": "Python 3"
    },
    "language_info": {
      "name": "python"
    }
  },
  "cells": [
    {
      "cell_type": "markdown",
      "source": [
        "This code is written for Google Colab and uses some Colab-specific features.\n",
        "It may not work as expected if run on other platforms.\n"
      ],
      "metadata": {
        "id": "K0gJZX6gzc4v"
      }
    },
    {
      "cell_type": "markdown",
      "source": [
        "1. Image Thresholding"
      ],
      "metadata": {
        "id": "vN0nK2sXp89j"
      }
    },
    {
      "cell_type": "code",
      "execution_count": 53,
      "metadata": {
        "id": "WC4NNLfxpiBJ"
      },
      "outputs": [],
      "source": [
        "import cv2\n",
        "from google.colab.patches import cv2_imshow\n",
        "import numpy as np\n",
        "\n",
        "\n",
        "# Thresholding function\n",
        "def threshold():\n",
        "    threshold= int(input(\"Enter threshold value: \"))\n",
        "    name = input(\"enter image path: \")\n",
        "    img = cv2.imread(name,0)\n",
        "    m, n = img.shape\n",
        "    img_thresholded = np.zeros((m, n))\n",
        "    for i in range(m):\n",
        "        for j in range(n):\n",
        "            if img[i, j] < threshold:\n",
        "                img_thresholded[i, j] = 0\n",
        "            else:\n",
        "                img_thresholded[i, j] = 255\n",
        "\n",
        "    cv2_imshow(img_thresholded)\n",
        "    cv2_imshow(img)\n",
        "\n"
      ]
    },
    {
      "cell_type": "markdown",
      "source": [
        "2. Image arithmatic operations"
      ],
      "metadata": {
        "id": "tcf-KAhYp763"
      }
    },
    {
      "cell_type": "code",
      "source": [
        "def arithmatic():\n",
        "  op = int(input('select operation: \\n 1. addition\\n 2. subtraction\\n'))\n",
        "  if(op==1):\n",
        "    path1= input('enter path to image1: ')\n",
        "    path2 = input('enter path to image2: ')\n",
        "    img1= cv2.imread(path1,0)\n",
        "    img2 = cv2.imread(path2,0)\n",
        "    add_img = cv2.add(img1,img2)\n",
        "    cv2_imshow(add_img)\n",
        "  elif(op==2):\n",
        "    path1= input('enter path to image1: ')\n",
        "    path2 = input('enter path to image2: ')\n",
        "    img1= cv2.imread(path1,0)\n",
        "    img2 = cv2.imread(path2,0)\n",
        "    sub_img= cv2.subtract(img1,img2)\n",
        "    cv2_imshow(sub_img)\n",
        "  else:\n",
        "    Print('invalid input')\n"
      ],
      "metadata": {
        "id": "inKW_DSEqF_q"
      },
      "execution_count": 54,
      "outputs": []
    },
    {
      "cell_type": "markdown",
      "source": [
        "3. Spatial Processing"
      ],
      "metadata": {
        "id": "sj1IM_sIqdFT"
      }
    },
    {
      "cell_type": "markdown",
      "source": [
        "a) Log Transform"
      ],
      "metadata": {
        "id": "35tEF--Ywcsw"
      }
    },
    {
      "cell_type": "code",
      "source": [
        "import cv2\n",
        "import numpy as np\n",
        "import matplotlib.pyplot as plt\n",
        "\n",
        "def log_transform():\n",
        "  path = input('Enter image path: ')\n",
        "  image = cv2.imread(path,0)\n",
        "\n",
        "\n",
        "  c = 255 / np.log(1 + np.max(image))\n",
        "  log_image = c * (np.log(image + 1))\n",
        "\n",
        "\n",
        "  log_image = np.array(log_image, dtype = np.uint8)\n",
        "\n",
        "  plt.figure(figsize=(10, 5))\n",
        "\n",
        "  plt.subplot(1, 2, 1)\n",
        "  plt.imshow(image ,cmap= 'gray')\n",
        "  plt.title('Original Image')\n",
        "\n",
        "  plt.subplot(1, 2, 2)\n",
        "  plt.imshow(log_image, cmap= 'gray')\n",
        "  plt.title('Log Image')\n",
        "\n",
        "  plt.tight_layout()\n",
        "  plt.show()\n"
      ],
      "metadata": {
        "id": "MsMOIZQ72qH6"
      },
      "execution_count": 56,
      "outputs": []
    },
    {
      "cell_type": "markdown",
      "source": [
        "b) Power Transform"
      ],
      "metadata": {
        "id": "fYIR5cVKwiPS"
      }
    },
    {
      "cell_type": "code",
      "source": [
        "import cv2\n",
        "import numpy as np\n",
        "import matplotlib.pyplot as plt\n",
        "\n",
        "def power_transform():\n",
        "    path = input('Enter image path: ')\n",
        "    gamma = float(input('Enter gamma value: '))\n",
        "    img = cv2.imread(path,0)\n",
        "    gamma_corrected = np.array(255*(img / 255) ** gamma, dtype = 'uint8')\n",
        "\n",
        "    plt.figure(figsize=(10, 5))\n",
        "    plt.subplot(1, 2, 1)\n",
        "    plt.imshow(cv2.cvtColor(img, cv2.COLOR_BGR2RGB))\n",
        "    plt.title('Original Image')\n",
        "\n",
        "    plt.subplot(1, 2, 2)\n",
        "    plt.imshow(cv2.cvtColor(gamma_corrected, cv2.COLOR_BGR2RGB))\n",
        "    plt.title('Gamma Corrected Image')\n",
        "\n",
        "    plt.tight_layout()\n",
        "    plt.show()\n",
        "\n"
      ],
      "metadata": {
        "id": "p1Mf5AO9Fdjj"
      },
      "execution_count": 70,
      "outputs": []
    },
    {
      "cell_type": "markdown",
      "source": [
        "c) Contrast strech"
      ],
      "metadata": {
        "id": "_fMsii-5wntX"
      }
    },
    {
      "cell_type": "code",
      "source": [
        "import cv2\n",
        "import numpy as np\n",
        "import matplotlib.pyplot as plt\n",
        "\n",
        "def contrast_stretch():\n",
        "    def pixelVal(pix, r1, s1, r2, s2):\n",
        "        if (0 <= pix and pix <= r1):\n",
        "            return (s1 / r1)*pix\n",
        "        elif (r1 < pix and pix <= r2):\n",
        "            return ((s2 - s1)/(r2 - r1)) * (pix - r1) + s1\n",
        "        else:\n",
        "            return ((255 - s2)/(255 - r2)) * (pix - r2) + s2\n",
        "\n",
        "    path = input('enter image path: ')\n",
        "    img = cv2.imread(path,0)\n",
        "\n",
        "    r1 = int(input('r1: '))\n",
        "    s1 = int(input('s1: '))\n",
        "    r2 = int(input('r2: '))\n",
        "    s2 = int(input('s2: '))\n",
        "\n",
        "    pixelVal_vec = np.vectorize(pixelVal)\n",
        "    contrast_stretched = pixelVal_vec(img, r1, s1, r2, s2)\n",
        "\n",
        "    contrast_stretched = np.uint8(contrast_stretched)\n",
        "\n",
        "    plt.figure(figsize=(10, 5))\n",
        "    plt.subplot(1, 2, 1)\n",
        "    plt.imshow(cv2.cvtColor(img, cv2.COLOR_BGR2RGB))\n",
        "    plt.title('Original Image')\n",
        "\n",
        "    plt.subplot(1, 2, 2)\n",
        "    plt.imshow(cv2.cvtColor(contrast_stretched, cv2.COLOR_BGR2RGB))\n",
        "    plt.title('Contrast Stretched Image')\n",
        "\n",
        "    plt.tight_layout()\n",
        "    plt.show()\n",
        "\n"
      ],
      "metadata": {
        "id": "HWjjC6EyTJls"
      },
      "execution_count": 59,
      "outputs": []
    },
    {
      "cell_type": "markdown",
      "source": [
        "d) Gray level slicing"
      ],
      "metadata": {
        "id": "GWLIEtxjw4W4"
      }
    },
    {
      "cell_type": "code",
      "source": [
        "import cv2\n",
        "import numpy as np\n",
        "\n",
        "def gray_lvl():\n",
        "  path = input('enter image path: ')\n",
        "  img = cv2.imread(path,cv2.IMREAD_GRAYSCALE)\n",
        "  min_gray_level = int(input(\"minimum gray level: \"))\n",
        "  max_gray_level = int(input('maximum gray level: '))\n",
        "  gray_slice_img = np.where((img >= min_gray_level) & (img <= max_gray_level), 255, 0)\n",
        "\n",
        "  gray_slice_img = np.uint8(gray_slice_img)\n",
        "  plt.figure(figsize=(10, 5))\n",
        "  plt.subplot(1, 2, 1)\n",
        "  plt.imshow(cv2.cvtColor(img, cv2.COLOR_BGR2RGB))\n",
        "  plt.title('Original Image')\n",
        "\n",
        "  plt.subplot(1, 2, 2)\n",
        "  plt.imshow(cv2.cvtColor(gray_slice_img, cv2.COLOR_BGR2RGB))\n",
        "  plt.title('gray level sliced Image')\n",
        "\n",
        "  plt.tight_layout()\n",
        "  plt.show()\n",
        "\n"
      ],
      "metadata": {
        "id": "flJ3hO74K3e7"
      },
      "execution_count": 60,
      "outputs": []
    },
    {
      "cell_type": "markdown",
      "source": [
        "e) Bit plane Slicing"
      ],
      "metadata": {
        "id": "VBR7P0ygxAzS"
      }
    },
    {
      "cell_type": "code",
      "source": [
        "import cv2\n",
        "import numpy as np\n",
        "\n",
        "def bit_plane_slicing():\n",
        "  path = input('enter image path: ')\n",
        "  img = cv2.imread(path,cv2.IMREAD_GRAYSCALE)\n",
        "  bit_plane_img = np.zeros(img.shape, dtype=np.uint8)\n",
        "  bit_plane = int(input('select plane(0-7)'))\n",
        "  bit_plane_img = ((img >> bit_plane) & 1) * 255\n",
        "\n",
        "  plt.figure(figsize=(10, 5))\n",
        "  plt.subplot(1, 2, 1)\n",
        "  plt.imshow(cv2.cvtColor(img, cv2.COLOR_BGR2RGB))\n",
        "  plt.title('Original Image')\n",
        "\n",
        "  plt.subplot(1, 2, 2)\n",
        "  plt.imshow(cv2.cvtColor(bit_plane_img, cv2.COLOR_BGR2RGB))\n",
        "  plt.title('bit plane sliced Image')\n",
        "\n",
        "  plt.tight_layout()\n",
        "  plt.show()\n"
      ],
      "metadata": {
        "id": "N6WzUBeXG-ji"
      },
      "execution_count": 71,
      "outputs": []
    },
    {
      "cell_type": "markdown",
      "source": [
        "4. Masking"
      ],
      "metadata": {
        "id": "BuRzbr5rxFSs"
      }
    },
    {
      "cell_type": "code",
      "source": [
        "import cv2\n",
        "import numpy as np\n",
        "from google.colab.patches import cv2_imshow\n",
        "def mask():\n",
        "  path= input('enter input path: ')\n",
        "  img = cv2.imread(path,cv2.IMREAD_GRAYSCALE)\n",
        "  resized_img = cv2.resize(img, (256, 256))\n",
        "  square_mask = np.zeros((256, 256), dtype=\"uint8\")\n",
        "  cv2.rectangle(square_mask, (64, 64), (192, 192), 255, -1)\n",
        "  square_masked = cv2.bitwise_and(resized_img, resized_img, mask=square_mask)\n",
        "  circle_mask = np.zeros((256, 256), dtype=\"uint8\")\n",
        "  cv2.circle(circle_mask, (128, 128),64, 255, -1)\n",
        "  circle_masked = cv2.bitwise_and(resized_img, resized_img, mask=circle_mask)\n",
        "\n",
        "  cv2_imshow( resized_img)\n",
        "  cv2.waitKey(0)\n",
        "  cv2_imshow(square_masked)\n",
        "  cv2.waitKey(0)\n",
        "  cv2_imshow( circle_masked)\n",
        "  cv2.waitKey(0)\n",
        "  print(circle_masked.shape)\n",
        "  cv2.destroyAllWindows()\n",
        "\n"
      ],
      "metadata": {
        "id": "WoLOR3Zhexea"
      },
      "execution_count": 62,
      "outputs": []
    },
    {
      "cell_type": "markdown",
      "source": [
        "5. Brightness"
      ],
      "metadata": {
        "id": "T6cxVKUxxPU0"
      }
    },
    {
      "cell_type": "code",
      "source": [
        "import cv2\n",
        "import numpy as np\n",
        "\n",
        "def addbrightness():\n",
        "    path= input('Enter image path: ')\n",
        "    img = cv2.imread(path, cv2.IMREAD_COLOR)\n",
        "    brightness = int(input(\"Enter brightness value: \"))\n",
        "    bright_img = img.astype(np.int16) + brightness\n",
        "    bright_img = np.clip(bright_img, 0, 255)\n",
        "    bright_img = bright_img.astype(np.uint8)\n",
        "    cv2_imshow( img)\n",
        "    cv2_imshow(bright_img)\n",
        "\n",
        "\n"
      ],
      "metadata": {
        "id": "BTwjrm4Fgz8T"
      },
      "execution_count": 63,
      "outputs": []
    },
    {
      "cell_type": "markdown",
      "source": [
        "6. Histogram Processing"
      ],
      "metadata": {
        "id": "5sKUQbxhxUca"
      }
    },
    {
      "cell_type": "code",
      "source": [
        "import cv2\n",
        "import matplotlib.pyplot as plt\n",
        "\n",
        "def cv2_histogram():\n",
        "  path= input(\"Enter path: \")\n",
        "  img = cv2.imread(path, cv2.IMREAD_GRAYSCALE)\n",
        "  hist = cv2.calcHist([img], [0], None, [256], [0,256])\n",
        "\n",
        "  plt.plot(hist)\n",
        "  plt.show()\n"
      ],
      "metadata": {
        "id": "cKmRypd5ij9o"
      },
      "execution_count": 64,
      "outputs": []
    },
    {
      "cell_type": "code",
      "source": [
        "import numpy as np\n",
        "import matplotlib.pyplot as plt\n",
        "\n",
        "def np_histogram():\n",
        "  path= input(\"Enter path: \")\n",
        "  img = cv2.imread(path, cv2.IMREAD_GRAYSCALE)\n",
        "  hist_values, bin_edges = np.histogram(img.flatten(), bins=256, range=[0,256])\n",
        "\n",
        "\n",
        "  bin_centers = (bin_edges[:-1] + bin_edges[1:]) / 2\n",
        "\n",
        "  for i in range(len(hist_values)):\n",
        "      plt.vlines(bin_centers[i], ymin=0, ymax=hist_values[i], color='blue')\n",
        "\n",
        "  plt.show()\n"
      ],
      "metadata": {
        "id": "-V_KMtHIrdID"
      },
      "execution_count": 65,
      "outputs": []
    },
    {
      "cell_type": "code",
      "source": [
        "import cv2\n",
        "import numpy as np\n",
        "import matplotlib.pyplot as plt\n",
        "\n",
        "def plot_histogram_gray(image):\n",
        "    hist_values, bin_edges = np.histogram(image.flatten(), bins=256, range=[0,256])\n",
        "    bin_centers = (bin_edges[:-1] + bin_edges[1:]) / 2\n",
        "    for i in range(len(hist_values)):\n",
        "        plt.vlines(bin_centers[i], ymin=0, ymax=hist_values[i], color='blue')\n",
        "    plt.show()\n",
        "\n",
        "def plot_histogram_rgb(image):\n",
        "    # Compute histogram for each channel\n",
        "    color = ('b', 'g', 'r')\n",
        "    for i, col in enumerate(color):\n",
        "        hist_values, _ = np.histogram(image[:,:,i].flatten(), bins=256, range=[0,256])\n",
        "        bin_centers = (np.arange(256) + 0.5)\n",
        "        plt.vlines(bin_centers, 0, hist_values, color=col, lw=2)\n",
        "    plt.show()\n",
        "\n"
      ],
      "metadata": {
        "id": "oIHv2FUGoYJp"
      },
      "execution_count": 49,
      "outputs": []
    },
    {
      "cell_type": "code",
      "source": [
        "def four_images():\n",
        "  img1= cv2.imread('/content/bright.tif',0)\n",
        "  img2= cv2.imread('/content/dark.tif',0)\n",
        "  img3= cv2.imread('/content/high_contrast.tif',0)\n",
        "  img4= cv2.imread('/content/low_contrast.tif',0)\n",
        "  plt.title('bright.tif')\n",
        "  plot_histogram_gray(img1)\n",
        "  plt.title('dark.tif')\n",
        "  plot_histogram_gray(img2)\n",
        "  plt.title('high_contrast.tif')\n",
        "  plot_histogram_gray(img3)\n",
        "  plt.title('low_contrast.tif')\n",
        "  plot_histogram_gray(img4)\n",
        "\n"
      ],
      "metadata": {
        "id": "8pLeoQRJzXs_"
      },
      "execution_count": 66,
      "outputs": []
    },
    {
      "cell_type": "code",
      "source": [
        "def main():\n",
        "  threshold()\n",
        "  arithmatic()\n",
        "  log_transform()\n",
        "  power_transform()\n",
        "  contrast_stretch()\n",
        "  gray_lvl()\n",
        "  bit_plane_slicing()\n",
        "  mask()\n",
        "  addbrightness()\n",
        "  cv2_histogram()\n",
        "  np_histogram()\n",
        "\n",
        "  rgb_img = cv2.imread('/content/image1.jpg',)\n",
        "  gray_img = cv2.imread('/content/high_contrast.tif')\n",
        "  plot_histogram_rgb(rgb_img)\n",
        "  plot_histogram_gray(gray_img)\n",
        "\n",
        "  four_images()\n",
        "\n",
        "if __name__ == \"__main__\":\n",
        "    main()"
      ],
      "metadata": {
        "id": "57tpx-s6xzSY"
      },
      "execution_count": 69,
      "outputs": []
    }
  ]
}